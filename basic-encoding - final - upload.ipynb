{
 "cells": [
  {
   "cell_type": "markdown",
   "metadata": {},
   "source": [
    "## Encoding Text using BERT\n",
    "\n",
    "\n",
    "* BERT: Bidirectional Encoder Representations Transformer is a pre-trained transformer that encodes text into the latent space. \n",
    "\n",
    "* When a list of textual data are encoded into vectors, these vectors form a space that is called the latent space.\n",
    "\n",
    "* The closer two vectors are to each other, the more similar the textual items are to each other \n",
    "\n",
    "(distance = semantic similarity).\n",
    "\n",
    "* These vectors (embeddings) are mostly either 512D or 768D. UMAP or t-SNE can turn them into 2D or 3D for visualization.\n",
    "\n",
    "\n",
    "\n",
    "Write code to encode a list of textual items using the base model of BERT (from Hugging Face). Store the resulting embeddings for each textual item and visualize them in 2D (using UMAP or t-SNE). \n",
    "\n",
    "\n",
    "The visualization is considered a mapped latent space."
   ]
  },
  {
   "cell_type": "markdown",
   "metadata": {},
   "source": [
    "## Encoding Text"
   ]
  },
  {
   "cell_type": "code",
   "execution_count": 1,
   "metadata": {},
   "outputs": [
    {
     "name": "stdout",
     "output_type": "stream",
     "text": [
      "\n",
      "\n",
      "\n",
      "\n",
      "                          THE RETURN OF SHERLOCK HOLMES\n",
      "\n",
      "                               Arthur Conan Doyle\n",
      "\n",
      "\n",
      "\n",
      "                                Table of contents\n",
      "\n",
      "               The Adventure of the Empty House\n",
      "               The Adventure of the Norwood Builder\n",
      "               The Adventure of the Dancing Men\n",
      "               The Adventure of the Solitary Cyclist\n",
      "               The Adventure of the Priory School\n",
      "               The Adventure of Black Peter\n",
      "               The Adventure of Charles \n"
     ]
    }
   ],
   "source": [
    "# Open and read the text file\n",
    "with open('sherlock-return-short.txt', 'r', encoding='utf-8') as file:\n",
    "    text_content = file.read()\n",
    "\n",
    "# Display the first 500 characters of the text to ensure it's read correctly\n",
    "print(text_content[:500])\n"
   ]
  },
  {
   "cell_type": "code",
   "execution_count": 2,
   "metadata": {},
   "outputs": [
    {
     "name": "stderr",
     "output_type": "stream",
     "text": [
      "C:\\Users\\SAMI\\anaconda3\\Lib\\site-packages\\sentence_transformers\\cross_encoder\\CrossEncoder.py:11: TqdmExperimentalWarning: Using `tqdm.autonotebook.tqdm` in notebook mode. Use `tqdm.tqdm` instead to force console mode (e.g. in jupyter console)\n",
      "  from tqdm.autonotebook import tqdm, trange\n",
      "No sentence-transformers model found with name bert-base-uncased. Creating a new one with mean pooling.\n",
      "C:\\Users\\SAMI\\anaconda3\\Lib\\site-packages\\huggingface_hub\\file_download.py:1132: FutureWarning: `resume_download` is deprecated and will be removed in version 1.0.0. Downloads always resume when possible. If you want to force a new download, use `force_download=True`.\n",
      "  warnings.warn(\n"
     ]
    },
    {
     "name": "stdout",
     "output_type": "stream",
     "text": [
      "(768,)\n",
      "-0.353029 0.017545678 0.07069087 -0.38075596 0.33338204 ... 0928944 0.17475429 -0.07888033 0.0022598729 -0.041137747\n"
     ]
    }
   ],
   "source": [
    "from sentence_transformers import SentenceTransformer\n",
    "\n",
    "text_language_processing = \"Machine learning and text processing are integral components of natural language processing (NLP), a field that focuses on enabling computers to understand, interpret, and generate human language. Machine learning algorithms, such as neural networks, support vector machines, and decision trees, are employed to analyze and extract meaningful insights from textual data. These algorithms learn patterns and relationships within the data, enabling tasks such as sentiment analysis, text classification, named entity recognition, and machine translation. Text processing involves various techniques such as tokenization, stemming, lemmatization, and part-of-speech tagging to preprocess and structure textual data for machine learning models. Through the synergy of machine learning and text processing, NLP systems can handle complex language tasks, providing valuable solutions across industries, including customer service automation, content recommendation, and information retrieval.\"\n",
    "text_transformer_models = \"Transformers, a groundbreaking innovation in natural language processing and machine learning, represent a pivotal shift from traditional recurrent and convolutional neural network architectures. Introduced by Vaswani et al. in 2017, transformers have revolutionized various tasks in NLP, including translation, sentiment analysis, and question answering. At their core, transformers rely on a self-attention mechanism to weigh the significance of different words in a sequence, enabling them to capture long-range dependencies efficiently. Unlike RNNs and CNNs, transformers process entire sequences in parallel, making them inherently faster and more parallelizable. Additionally, transformers incorporate positional encoding to preserve the sequential order of input tokens. Pre-trained transformer models like BERT, GPT, and T5 have achieved remarkable performance across a wide range of NLP benchmarks, often surpassing human-level performance on tasks such as language understanding and generation. Furthermore, transformers' attention mechanism facilitates interpretability by highlighting important words and phrases in the input, contributing to their widespread adoption and continued advancement in the field of artificial intelligence.\"\n",
    "text_french_revolution = \"The French Revolution, spanning from 1789 to 1799, was a transformative period in French history characterized by radical social, political, and cultural upheaval. Fueled by economic hardship, social inequality, and Enlightenment ideals of liberty, equality, and fraternity, the revolution saw the overthrow of the monarchy, the establishment of a republic, and the rise of Napoleon Bonaparte. The revolutionaries aimed to dismantle the ancien régime, which was characterized by absolute monarchy and feudal privileges, and replace it with a more democratic and egalitarian system. The revolution brought about sweeping changes, including the abolition of feudal privileges, the Declaration of the Rights of Man and of the Citizen, and the secularization of society. However, it also led to violence, terror, and political instability, exemplified by the Reign of Terror, where thousands of perceived enemies of the revolution were executed.\"\n",
    "\n",
    "bert_model = SentenceTransformer(\"bert-base-uncased\")\n",
    "encodings = []\n",
    "for item in [text_language_processing, text_transformer_models, text_french_revolution, text_content]:\n",
    "    encoding = bert_model.encode(item)\n",
    "    encodings.append(encoding)\n",
    "\n",
    "print(encoding.shape)\n",
    "encoding_string = \" \".join([str(num) for num in encoding])\n",
    "print(encoding_string[:55] + \" ... \" + encoding_string[-56:])"
   ]
  },
  {
   "cell_type": "markdown",
   "metadata": {},
   "source": [
    "## Mapping and Visualizing"
   ]
  },
  {
   "cell_type": "code",
   "execution_count": 4,
   "metadata": {},
   "outputs": [
    {
     "name": "stdout",
     "output_type": "stream",
     "text": [
      "[[ 29.139711     3.9056501 ]\n",
      " [ 21.662386    42.888927  ]\n",
      " [-27.153833     0.81780535]\n",
      " [-21.75454     84.62889   ]]\n"
     ]
    },
    {
     "data": {
      "image/png": "[encoded data removed]",
      "text/plain": [
       "<Figure size 800x600 with 1 Axes>"
      ]
     },
     "metadata": {},
     "output_type": "display_data"
    }
   ],
   "source": [
    "import numpy as np, matplotlib.pyplot as plt\n",
    "from sklearn.manifold import TSNE\n",
    "\n",
    "# Convert list of vectors to a NumPy array\n",
    "array = np.array(encodings)\n",
    "\n",
    "# Create a t-SNE object with desired parameters\n",
    "tsne = TSNE(n_components=2, perplexity=2)\n",
    "\n",
    "# Fit t-SNE to the data and transform it to 2D\n",
    "mappings = tsne.fit_transform(array)\n",
    "print(mappings)\n",
    "\n",
    "plt.figure(figsize=(8, 6))\n",
    "plt.scatter(mappings[:, 0], mappings[:, 1], label='Data Points')\n",
    "for i, txt in enumerate(['NLP', 'Transformer NLP', 'French Revolution', 'Returns of Sherlock Holmes']):\n",
    "    plt.annotate(txt, (mappings[i, 0], mappings[i, 1]))\n",
    "plt.title('Visualization of Embeddings')\n",
    "plt.legend()\n",
    "plt.grid(True)\n",
    "plt.show()\n"
   ]
  },
  {
   "cell_type": "code",
   "execution_count": null,
   "metadata": {},
   "outputs": [],
   "source": []
  }
 ],
 "metadata": {
  "kernelspec": {
   "display_name": "Python 3 (ipykernel)",
   "language": "python",
   "name": "python3"
  },
  "language_info": {
   "codemirror_mode": {
    "name": "ipython",
    "version": 3
   },
   "file_extension": ".py",
   "mimetype": "text/x-python",
   "name": "python",
   "nbconvert_exporter": "python",
   "pygments_lexer": "ipython3",
   "version": "3.11.7"
  }
 },
 "nbformat": 4,
 "nbformat_minor": 4
}
